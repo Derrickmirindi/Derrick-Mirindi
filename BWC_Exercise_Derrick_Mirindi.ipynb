{
 "cells": [
  {
   "cell_type": "markdown",
   "metadata": {},
   "source": [
    "# Back Water Curve Exercise"
   ]
  },
  {
   "cell_type": "markdown",
   "metadata": {},
   "source": [
    "![](2022-02-25-09-39-18.png)"
   ]
  },
  {
   "cell_type": "code",
   "execution_count": 1,
   "metadata": {},
   "outputs": [
    {
     "name": "stderr",
     "output_type": "stream",
     "text": [
      "WARNING:bokeh.core.validation.check:W-1000 (MISSING_RENDERERS): Plot has no renderers: Figure(id='1029', ...)\n"
     ]
    }
   ],
   "source": [
    "from bokeh.io import output_file, show\n",
    "from bokeh.models.widgets import Select, Paragraph\n",
    "from bokeh.layouts import row\n",
    "from bokeh.layouts import column, widgetbox, row\n",
    "from bokeh.models import Slider\n",
    "from bokeh.plotting import figure\n",
    "from bokeh.io import output_notebook, show\n",
    "from bokeh.models import Button, CustomJS\n",
    "output_file(\"layout_widgets.html\")\n",
    "Subject = Paragraph(text=\"\"\"Back Water Curve\"\"\")\n",
    "select1 = Select(title=\"Type of material:\", value=\"Brick channel\", options=[\"Brick channel\", \"Concrete channel\", \"Earth channel\"])\n",
    "select2 = Select(title=\"Discharge unit:\", value=\"m3/s\", options=[\"m3/s\", \"m3/min\", \"litre/s\", \"ft3/s\", \"ft3/min\"])\n",
    "select3 = Select(title=\"Elevation unit:\", value=\"m\", options=[\"m\", \"cm\", \"inch\", \"ft\"])\n",
    "select4 = Select(title=\"Width unit:\", value=\"m\", options=[\"m\", \"cm\", \"inch\", \"ft\"])\n",
    "select5 = Select(title=\"Length unit:\", value=\"m\", options=[\"m\", \"cm\", \"inch\", \"ft\"])\n",
    "select6 = Select(title=\"delta_x unit:\", value=\"m\", options=[\"m\", \"cm\", \"inch\", \"ft\"])\n",
    "select7 = Select(title=\"delta_t unit:\", value=\"sec\", options=[\"sec\", \"min\", \"hours\"])\n",
    "button0 = Button(label=\"Graph or Table Type\", button_type=\"success\")\n",
    "select8 = Select(value=\"Elevations vs. Distance\", options=[\"Elevations vs. Distance\", \"Water depth vs Distance\", \"Velocity vs Distance\"])\n",
    "\n",
    "button10 = Button(label=\"HYDRAULIC PROFILE COMPUTATION\", button_type=\"success\")\n",
    "sliderH1 = Slider(start=1, end=1000, step=0.1, value=5,title='Discharge, Q')\n",
    "sliderL = Slider(start=0, end=200, step=0.1, value=100,title='Bottom width, B')\n",
    "sliderD = Slider(start=0.01, end=100, step=0.001, value=0.15,title='Elevation, Z')\n",
    "sliderg = Slider(start=0.01, end=100, step=0.001, value=0.01,title='Lenght channel distance')\n",
    "sliderh = Slider(start=0.01, end=100, step=0.001, value=0.01,title='Manning n')\n",
    "slideri = Slider(start=0.01, end=100, step=0.001, value=0.01,title='Chezy coefficient (c)')\n",
    "sliderf = Slider(start=0.01, end=100, step=0.1, value=0.01,title='Datum, Ys')\n",
    "slidert = Slider(start=0.01, end=200, step=0.001, value=0.01,title='delta_x')\n",
    "slidere = Slider(start=0.01, end=100, step=0.001, value=0.01,title='delta_t')\n",
    "button = Button(label=\"Normal depth\", button_type=\"success\")\n",
    "button01 = Button(label=\"show data result\")\n",
    "button1 = Button(label=\"Critical depth\", button_type=\"success\")\n",
    "button11 = Button(label=\"show data result\")\n",
    "button2 = Button(label=\"Gradual value flow\", button_type=\"success\")\n",
    "button22 = Button(label=\"show data result\")\n",
    "\n",
    "button.js_on_click(CustomJS(code=\"console.log('button: click!', this.toString())\"))\n",
    "\n",
    "x = list(range(11))\n",
    "y = list(range(11))\n",
    "\n",
    "# create a new plot\n",
    "s1 = figure(plot_width=250, plot_height=250, title=None)\n",
    "show(row(column(Subject,select1, select2, select3, select4, select5, select6, select7, button0,select8),column(button10,sliderH1,sliderL,sliderD,sliderg,sliderh,slideri,sliderf,slidert,slidere),column(button,button01,button1,button11,button2,button22,s1)))\n"
   ]
  }
 ],
 "metadata": {
  "interpreter": {
   "hash": "23f099b3e1e471a90f4512b0cd1d998dc7a1d88c7791f9fbff6d32bacabbefb0"
  },
  "kernelspec": {
   "display_name": "Python 3.8.8 ('base')",
   "language": "python",
   "name": "python3"
  },
  "language_info": {
   "codemirror_mode": {
    "name": "ipython",
    "version": 3
   },
   "file_extension": ".py",
   "mimetype": "text/x-python",
   "name": "python",
   "nbconvert_exporter": "python",
   "pygments_lexer": "ipython3",
   "version": "3.9.7"
  },
  "orig_nbformat": 4
 },
 "nbformat": 4,
 "nbformat_minor": 2
}
